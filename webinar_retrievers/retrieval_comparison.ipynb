{
 "cells": [
  {
   "cell_type": "code",
   "execution_count": 1,
   "metadata": {},
   "outputs": [],
   "source": [
    "from langchain.vectorstores import FAISS\n",
    "from langchain_huggingface import HuggingFaceEmbeddings\n",
    "from langchain.text_splitter import CharacterTextSplitter\n",
    "from langchain.retrievers import BM25Retriever, EnsembleRetriever\n",
    "from langchain.schema import Document"
   ]
  },
  {
   "cell_type": "code",
   "execution_count": 2,
   "metadata": {},
   "outputs": [],
   "source": [
    "texts = [\n",
    "    \"LangChain est une composante clé dans la création d'applications avec des LLM.\",\n",
    "    \"La méthode BM25 permet d'améliorer la qualité de la recherche documentaire.\",\n",
    "    \"Avec FAISS, les résultats sont plus pertinents grâce à l'analyse sémantique.\",\n",
    "    \"Le retrieval hybride est souvent combiné avec des approches lexicales pour des performances accrues.\",\n",
    "    \"L'intégration de embeddings dans un pipeline RAG est désormais plus simple grâce à LangChain.\",\n",
    "    \"Les systèmes de vector search utilisent des embeddings pour représenter le texte numériquement.\",\n",
    "    \"FAISS améliore la précision de la recherche en comprenant le sens des requêtes.\",\n",
    "    \"BM25 fonctionne très bien en local, même sans infrastructure cloud.\",\n",
    "    \"Grâce à LangChain, on peut interroger efficacement une base documentaire complexe.\",\n",
    "    \"La combinaison de BM25 et FAISS est très utilisée dans les systèmes RAG modernes.\",\n",
    "    \"LLM est une composante clé dans la création d'applications avec des LLM.\",\n",
    "    \"La méthode hybrid methods permet d'améliorer la qualité de la recherche documentaire.\",\n",
    "    \"Avec dense retrieval, les résultats sont plus pertinents grâce à l'analyse sémantique.\",\n",
    "    \"vector search est souvent combiné avec des approches lexicales pour des performances accrues.\",\n",
    "    \"L'intégration de retrieval dans un pipeline RAG est désormais plus simple grâce à LangChain.\",\n",
    "    \"Les systèmes de metadata utilisent des embeddings pour représenter le texte numériquement.\",\n",
    "    \"question answering améliore la précision de la recherche en comprenant le sens des requêtes.\",\n",
    "    \"open source fonctionne très bien en local, même sans infrastructure cloud.\",\n",
    "    \"Grâce à document processing, on peut interroger efficacement une base documentaire complexe.\",\n",
    "    \"La combinaison de FAISS et embeddings est très utilisée dans les systèmes RAG modernes.\",\n",
    "    \"LangChain est souvent combiné avec FAISS dans les pipelines IA modernes.\",\n",
    "    \"BM25 est toujours utilisé dans les moteurs de recherche traditionnels.\",\n",
    "    \"Les embeddings permettent une compréhension sémantique fine.\",\n",
    "    \"Une base de connaissance bien structurée améliore le retrieval.\",\n",
    "    \"Chunker les documents aide les retrievers à mieux cibler les informations.\",\n",
    "    \"Les LLMs comme Mistral ou LLaMA profitent d’un bon contexte via retrieval.\",\n",
    "    \"Le vector store est essentiel pour la recherche dense.\",\n",
    "    \"FAISS et Chroma sont les solutions les plus courantes en local.\",\n",
    "    \"LangChain propose une API unifiée pour tous les types de retrievers.\",\n",
    "    \"Le format des documents (PDF, Markdown, HTML) influence le chunking.\",\n",
    "    \"BM25 reste performant sur les corpus simples ou très structurés.\",\n",
    "    \"Le reranking améliore la qualité finale des documents proposés au LLM.\",\n",
    "    \"Certaines approches hybrides utilisent des pondérations dynamiques.\",\n",
    "    \"Weaviate permet de combiner recherche vectorielle et filtrage structuré.\",\n",
    "    \"Avec Ollama, les LLMs peuvent tourner localement sans cloud.\",\n",
    "    \"Le coût des embeddings dépend du modèle utilisé (MiniLM, MPNet…).\",\n",
    "    \"La qualité du prompt est influencée par le contexte fourni par le retriever.\",\n",
    "    \"Un bon split des documents augmente le recall.\",\n",
    "    \"Les métriques comme le MRR ou Recall@k permettent d’évaluer un retriever.\",\n",
    "    \"L’infrastructure locale doit être optimisée pour charger rapidement l’index.\",\n",
    "    \"L’ajout de métadonnées enrichit le filtrage contextuel dans les retrievers.\",\n",
    "    \"LangChain permet de tester rapidement plusieurs stratégies de retrieval.\",\n",
    "    \"Une pipeline RAG efficace passe par un tuning précis du retriever.\",\n",
    "    \"Le choix de l’embedding model impacte directement la pertinence des résultats.\",\n",
    "    \"Il est utile d’indexer les sources des documents pour l’auditabilité.\",\n",
    "    \"Certaines approches utilisent des embeddings multi-vecteurs par chunk.\",\n",
    "    \"FAISS HNSW est plus performant pour des recherches approximatives rapides.\",\n",
    "    \"La vectorisation peut se faire offline pour gagner en performance.\",\n",
    "    \"LangChain offre aussi un support pour OpenSearch et Qdrant.\",\n",
    "    \"Un LLM avec peu de contexte aura du mal à répondre précisément.\",\n",
    "    \"Il faut ajuster la taille et le recouvrement des chunks pour chaque cas d’usage.\"\n",
    "]\n",
    "documents = [Document(page_content=t) for t in texts]"
   ]
  },
  {
   "cell_type": "code",
   "execution_count": 3,
   "metadata": {},
   "outputs": [],
   "source": [
    "splitter = CharacterTextSplitter(chunk_size=100, chunk_overlap=0)\n",
    "docs_split = splitter.split_documents(documents)"
   ]
  },
  {
   "cell_type": "code",
   "execution_count": 4,
   "metadata": {},
   "outputs": [],
   "source": [
    "embedding_models = {\n",
    "    \"miniLM\": HuggingFaceEmbeddings(model_name=\"sentence-transformers/all-MiniLM-L6-v2\"),\n",
    "    \"mpnet\": HuggingFaceEmbeddings(model_name=\"sentence-transformers/all-mpnet-base-v2\"),\n",
    "}"
   ]
  },
  {
   "cell_type": "code",
   "execution_count": 8,
   "metadata": {},
   "outputs": [],
   "source": [
    "retrievers = {}\n",
    "\n",
    "for name, embedding in embedding_models.items():\n",
    "    vectorstore = FAISS.from_documents(docs_split, embedding)\n",
    "    retrievers[f\"FAISS ({name})\"] = vectorstore.as_retriever(search_kwargs={\"k\": 3})\n",
    "\n",
    "bm25_retriever = BM25Retriever.from_documents(docs_split)\n",
    "bm25_retriever.k = 3\n",
    "retrievers[\"BM25\"] = bm25_retriever\n",
    "\n",
    "hybrid_retriever = EnsembleRetriever(\n",
    "    retrievers=[bm25_retriever, retrievers[\"FAISS (miniLM)\"]],\n",
    "    weights=[0.5, 0.5]\n",
    ")\n",
    "retrievers[\"Hybrid (BM25 + FAISS-miniLM)\"] = hybrid_retriever"
   ]
  },
  {
   "cell_type": "code",
   "execution_count": 11,
   "metadata": {},
   "outputs": [],
   "source": [
    "def test_query(query: str, top_k: int = 2):\n",
    "    print(f\"\\n🔍 Question : {query}\")\n",
    "    for name, retriever in retrievers.items():\n",
    "        print(f\"\\n➡ Méthode : {name}\")\n",
    "        results = retriever.invoke(query)\n",
    "        for i, doc in enumerate(results):\n",
    "            print(f\"{i+1}. {doc.page_content}\")\n",
    "    print(\"\\n\" + \"=\"*50)"
   ]
  },
  {
   "cell_type": "code",
   "execution_count": 12,
   "metadata": {},
   "outputs": [
    {
     "name": "stdout",
     "output_type": "stream",
     "text": [
      "\n",
      "🔍 Question : Comment fonctionne la recherche vectorielle ?\n",
      "\n",
      "➡ Méthode : FAISS (miniLM)\n",
      "1. Le vector store est essentiel pour la recherche dense.\n",
      "2. Weaviate permet de combiner recherche vectorielle et filtrage structuré.\n",
      "3. La vectorisation peut se faire offline pour gagner en performance.\n",
      "\n",
      "➡ Méthode : FAISS (mpnet)\n",
      "1. La vectorisation peut se faire offline pour gagner en performance.\n",
      "2. Weaviate permet de combiner recherche vectorielle et filtrage structuré.\n",
      "3. Le vector store est essentiel pour la recherche dense.\n",
      "\n",
      "➡ Méthode : BM25\n",
      "1. Weaviate permet de combiner recherche vectorielle et filtrage structuré.\n",
      "2. La méthode BM25 permet d'améliorer la qualité de la recherche documentaire.\n",
      "3. La méthode hybrid methods permet d'améliorer la qualité de la recherche documentaire.\n",
      "\n",
      "➡ Méthode : Hybrid (BM25 + FAISS-miniLM)\n",
      "1. Weaviate permet de combiner recherche vectorielle et filtrage structuré.\n",
      "2. Le vector store est essentiel pour la recherche dense.\n",
      "3. La méthode BM25 permet d'améliorer la qualité de la recherche documentaire.\n",
      "4. La méthode hybrid methods permet d'améliorer la qualité de la recherche documentaire.\n",
      "5. La vectorisation peut se faire offline pour gagner en performance.\n",
      "\n",
      "==================================================\n",
      "\n",
      "🔍 Question : Qu'est-ce qu'un modèle d'embedding ?\n",
      "\n",
      "➡ Méthode : FAISS (miniLM)\n",
      "1. Le coût des embeddings dépend du modèle utilisé (MiniLM, MPNet…).\n",
      "2. Le choix de l’embedding model impacte directement la pertinence des résultats.\n",
      "3. Les embeddings permettent une compréhension sémantique fine.\n",
      "\n",
      "➡ Méthode : FAISS (mpnet)\n",
      "1. Le choix de l’embedding model impacte directement la pertinence des résultats.\n",
      "2. Les embeddings permettent une compréhension sémantique fine.\n",
      "3. Le coût des embeddings dépend du modèle utilisé (MiniLM, MPNet…).\n",
      "\n",
      "➡ Méthode : BM25\n",
      "1. Le coût des embeddings dépend du modèle utilisé (MiniLM, MPNet…).\n",
      "2. Un LLM avec peu de contexte aura du mal à répondre précisément.\n",
      "3. Il faut ajuster la taille et le recouvrement des chunks pour chaque cas d’usage.\n",
      "\n",
      "➡ Méthode : Hybrid (BM25 + FAISS-miniLM)\n",
      "1. Le coût des embeddings dépend du modèle utilisé (MiniLM, MPNet…).\n",
      "2. Un LLM avec peu de contexte aura du mal à répondre précisément.\n",
      "3. Le choix de l’embedding model impacte directement la pertinence des résultats.\n",
      "4. Il faut ajuster la taille et le recouvrement des chunks pour chaque cas d’usage.\n",
      "5. Les embeddings permettent une compréhension sémantique fine.\n",
      "\n",
      "==================================================\n"
     ]
    }
   ],
   "source": [
    "test_query(\"Comment fonctionne la recherche vectorielle ?\")\n",
    "test_query(\"Qu'est-ce qu'un modèle d'embedding ?\")"
   ]
  }
 ],
 "metadata": {
  "kernelspec": {
   "display_name": "rag-streamlit-app (3.12.10)",
   "language": "python",
   "name": "python3"
  },
  "language_info": {
   "codemirror_mode": {
    "name": "ipython",
    "version": 3
   },
   "file_extension": ".py",
   "mimetype": "text/x-python",
   "name": "python",
   "nbconvert_exporter": "python",
   "pygments_lexer": "ipython3",
   "version": "3.12.10"
  }
 },
 "nbformat": 4,
 "nbformat_minor": 5
}
